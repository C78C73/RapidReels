{
 "cells": [
  {
   "cell_type": "code",
   "execution_count": 21,
   "metadata": {
    "collapsed": true
   },
   "outputs": [],
   "source": [
    "import numpy as np\n",
    "import pandas as pd\n",
    "from pytube import YouTube\n",
    "import time\n",
    "import requests\n",
    "from selenium import webdriver\n",
    "from selenium.webdriver.support.ui import WebDriverWait\n",
    "from selenium.webdriver.support import expected_conditions as EC\n",
    "from selenium.webdriver.common.by import By\n",
    "import matplotlib.pyplot as plt\n",
    "from scipy.signal import find_peaks\n",
    "from moviepy.editor import VideoFileClip\n",
    "from urllib.parse import urlparse, parse_qs"
   ]
  },
  {
   "cell_type": "code",
   "execution_count": 7,
   "outputs": [],
   "source": [
    "def download_youtube_video(url):\n",
    "    try:\n",
    "        # Create a YouTube object\n",
    "        yt = YouTube(url)\n",
    "\n",
    "        # Choose the stream with the highest resolution\n",
    "        stream = yt.streams.get_highest_resolution()\n",
    "\n",
    "        # Specify the download location (replace with your desired directory)\n",
    "        download_dir = \"/Users/mikeyjoyce/Documents/tigerhacks-2023\"\n",
    "\n",
    "        start_time = time.time()  # Record the start time\n",
    "\n",
    "        # Download the video to the specified location\n",
    "        stream.download(output_path=download_dir, filename='00001.mp4')\n",
    "\n",
    "        end_time = time.time()  # Record the end time\n",
    "        elapsed_time = end_time - start_time\n",
    "\n",
    "        print(f\"Download complete! Time taken: {elapsed_time:.2f} seconds\")\n",
    "    except Exception as e:\n",
    "        print(\"An error occurred:\", str(e))"
   ],
   "metadata": {
    "collapsed": false
   }
  },
  {
   "cell_type": "code",
   "execution_count": 8,
   "outputs": [
    {
     "name": "stdout",
     "output_type": "stream",
     "text": [
      "Download complete! Time taken: 0.15 seconds\n",
      "Download complete! Time taken: 1.95 seconds\n"
     ]
    }
   ],
   "source": [
    "url = \"https://www.youtube.com/watch?v=1b2XscG9Lfk\"\n",
    "#url = \"https://www.youtube.com/watch?v=sqoOzGMqCQU\"\n",
    "\n",
    "start_time = time.time()\n",
    "download_youtube_video(url)\n",
    "end_time = time.time()\n",
    "elapsed_time = end_time - start_time\n",
    "\n",
    "print(f\"Download complete! Time taken: {elapsed_time:.2f} seconds\")"
   ],
   "metadata": {
    "collapsed": false
   }
  },
  {
   "cell_type": "code",
   "execution_count": 9,
   "outputs": [],
   "source": [
    "response = requests.get(url)\n",
    "\n",
    "#with open('reponse.txt', 'w') as f:\n",
    "#    f.write(response.text)"
   ],
   "metadata": {
    "collapsed": false
   }
  },
  {
   "cell_type": "code",
   "execution_count": 10,
   "outputs": [
    {
     "name": "stdout",
     "output_type": "stream",
     "text": [
      "M 0.0,100.0 C 1.0,96.8 2.0,86.1 5.0,84.1 C 8.0,82.1 11.0,88.8 15.0,90.0 C 19.0,91.2 21.0,90.0 25.0,90.0 C 29.0,90.0 31.0,91.3 35.0,90.0 C 39.0,88.7 41.0,84.0 45.0,83.5 C 49.0,83.0 51.0,86.0 55.0,87.3 C 59.0,88.6 61.0,89.5 65.0,90.0 C 69.0,90.5 71.0,91.5 75.0,90.0 C 79.0,88.4 81.0,86.2 85.0,82.3 C 89.0,78.3 91.0,75.6 95.0,70.2 C 99.0,64.8 101.0,61.8 105.0,55.3 C 109.0,48.7 111.0,39.3 115.0,37.5 C 119.0,35.6 121.0,42.2 125.0,46.1 C 129.0,50.1 131.0,53.2 135.0,57.4 C 139.0,61.6 141.0,63.0 145.0,67.1 C 149.0,71.1 151.0,74.5 155.0,77.6 C 159.0,80.7 161.0,80.9 165.0,82.6 C 169.0,84.3 171.0,85.1 175.0,86.3 C 179.0,87.4 181.0,88.0 185.0,88.2 C 189.0,88.4 191.0,87.8 195.0,87.3 C 199.0,86.9 201.0,86.2 205.0,85.9 C 209.0,85.6 211.0,86.3 215.0,86.0 C 219.0,85.7 221.0,84.9 225.0,84.5 C 229.0,84.1 231.0,84.0 235.0,84.0 C 239.0,84.0 241.0,84.6 245.0,84.6 C 249.0,84.5 251.0,83.8 255.0,83.8 C 259.0,83.8 261.0,84.4 265.0,84.7 C 269.0,85.0 271.0,84.9 275.0,85.2 C 279.0,85.6 281.0,86.0 285.0,86.4 C 289.0,86.8 291.0,86.9 295.0,87.4 C 299.0,87.9 301.0,88.4 305.0,88.9 C 309.0,89.4 311.0,89.8 315.0,90.0 C 319.0,90.2 321.0,90.0 325.0,90.0 C 329.0,90.0 331.0,90.0 335.0,90.0 C 339.0,90.0 341.0,90.0 345.0,90.0 C 349.0,90.0 351.0,90.0 355.0,90.0 C 359.0,90.0 361.0,90.0 365.0,90.0 C 369.0,90.0 371.0,90.0 375.0,90.0 C 379.0,90.0 381.0,90.0 385.0,90.0 C 389.0,90.0 391.0,90.0 395.0,90.0 C 399.0,90.0 401.0,90.0 405.0,90.0 C 409.0,90.0 411.0,90.0 415.0,90.0 C 419.0,90.0 421.0,90.0 425.0,90.0 C 429.0,90.0 431.0,90.0 435.0,90.0 C 439.0,90.0 441.0,90.0 445.0,90.0 C 449.0,90.0 451.0,90.0 455.0,90.0 C 459.0,90.0 461.0,90.0 465.0,90.0 C 469.0,90.0 471.0,90.0 475.0,90.0 C 479.0,90.0 481.0,90.0 485.0,90.0 C 489.0,90.0 491.0,90.0 495.0,90.0 C 499.0,90.0 501.0,90.0 505.0,90.0 C 509.0,90.0 511.0,90.3 515.0,90.0 C 519.0,89.7 521.0,88.7 525.0,88.3 C 529.0,88.0 531.0,88.4 535.0,88.2 C 539.0,87.9 541.0,87.4 545.0,87.0 C 549.0,86.5 551.0,86.3 555.0,85.8 C 559.0,85.3 561.0,84.8 565.0,84.5 C 569.0,84.2 571.0,84.5 575.0,84.4 C 579.0,84.3 581.0,84.1 585.0,84.1 C 589.0,84.0 591.0,84.5 595.0,84.1 C 599.0,83.8 601.0,83.1 605.0,82.5 C 609.0,81.8 611.0,82.8 615.0,81.0 C 619.0,79.2 621.0,77.7 625.0,73.6 C 629.0,69.5 631.0,64.8 635.0,60.5 C 639.0,56.3 641.0,56.4 645.0,52.4 C 649.0,48.5 651.0,47.8 655.0,41.0 C 659.0,34.2 661.0,26.4 665.0,18.2 C 669.0,10.0 671.0,-4.3 675.0,0.0 C 679.0,4.3 681.0,28.3 685.0,39.9 C 689.0,51.5 691.0,52.8 695.0,58.1 C 699.0,63.5 701.0,65.3 705.0,66.6 C 709.0,68.0 711.0,68.4 715.0,64.8 C 719.0,61.2 721.0,52.8 725.0,48.5 C 729.0,44.3 731.0,41.3 735.0,43.6 C 739.0,45.9 741.0,54.1 745.0,60.0 C 749.0,66.0 751.0,69.6 755.0,73.4 C 759.0,77.1 761.0,77.4 765.0,79.0 C 769.0,80.6 771.0,80.6 775.0,81.3 C 779.0,82.1 781.0,82.2 785.0,82.6 C 789.0,82.9 791.0,83.7 795.0,83.1 C 799.0,82.5 801.0,81.0 805.0,79.6 C 809.0,78.2 811.0,76.5 815.0,76.3 C 819.0,76.0 821.0,76.4 825.0,78.3 C 829.0,80.3 831.0,83.9 835.0,86.0 C 839.0,88.0 841.0,87.9 845.0,88.7 C 849.0,89.5 851.0,90.0 855.0,90.0 C 859.0,90.0 861.0,89.2 865.0,88.8 C 869.0,88.4 871.0,87.8 875.0,88.0 C 879.0,88.2 881.0,89.6 885.0,90.0 C 889.0,90.4 891.0,90.0 895.0,90.0 C 899.0,90.0 901.0,90.0 905.0,90.0 C 909.0,90.0 911.0,90.6 915.0,90.0 C 919.0,89.4 921.0,86.9 925.0,86.8 C 929.0,86.6 931.0,88.4 935.0,89.1 C 939.0,89.7 941.0,90.5 945.0,90.0 C 949.0,89.5 951.0,87.0 955.0,86.7 C 959.0,86.4 961.0,88.0 965.0,88.6 C 969.0,89.3 971.0,89.7 975.0,90.0 C 979.0,90.3 981.0,90.5 985.0,90.0 C 989.0,89.5 992.0,88.0 995.0,87.5 C 998.0,87.0 999.0,85.0 1000.0,87.5 C 1001.0,90.0 1000.0,97.5 1000.0,100.0\n"
     ]
    }
   ],
   "source": [
    "DRIVER_PATH = 'chrome-mac-x64/Google Chrome for Testing.app/Contents/MacOS/Google Chrome for Testing'\n",
    "driver = webdriver.Chrome()\n",
    "\n",
    "try:\n",
    "    driver.get(url)\n",
    "    WebDriverWait(driver, 10).until(EC.presence_of_element_located((By.TAG_NAME, 'html')))\n",
    "    time.sleep(10)\n",
    "    elements = driver.find_element(By.CLASS_NAME, 'ytp-heat-map-path')\n",
    "\n",
    "    if elements:\n",
    "        coords = elements.get_attribute('d')\n",
    "        print(coords)\n",
    "    else:\n",
    "        print(\"No elements with target class found on the page.\")\n",
    "finally:\n",
    "    driver.quit()"
   ],
   "metadata": {
    "collapsed": false
   }
  },
  {
   "cell_type": "markdown",
   "source": [],
   "metadata": {
    "collapsed": false
   }
  },
  {
   "cell_type": "code",
   "execution_count": 11,
   "outputs": [],
   "source": [
    "words = coords.split()\n",
    "\n",
    "# Initialize a list to store floating-point numbers\n",
    "nums = []\n",
    "\n",
    "# Iterate through the words and check if they can be converted to a float\n",
    "for word in words:\n",
    "    if ',' in word:\n",
    "        temp = word.split(',')\n",
    "    else:\n",
    "        continue\n",
    "\n",
    "    for num in temp:\n",
    "        try:\n",
    "            n = float(num)\n",
    "            nums.append(n)\n",
    "        except ValueError:\n",
    "            pass"
   ],
   "metadata": {
    "collapsed": false
   }
  },
  {
   "cell_type": "code",
   "execution_count": 12,
   "outputs": [
    {
     "name": "stdout",
     "output_type": "stream",
     "text": [
      "[0.0, 0.001, 0.002, 0.005, 0.008, 0.011, 0.015, 0.019, 0.021, 0.025, 0.029, 0.031, 0.035, 0.039, 0.041, 0.045, 0.049, 0.051, 0.055, 0.059, 0.061, 0.065, 0.069, 0.071, 0.075, 0.079, 0.081, 0.085, 0.089, 0.091, 0.095, 0.099, 0.101, 0.105, 0.109, 0.111, 0.115, 0.119, 0.121, 0.125, 0.129, 0.131, 0.135, 0.139, 0.141, 0.145, 0.149, 0.151, 0.155, 0.159, 0.161, 0.165, 0.169, 0.171, 0.175, 0.179, 0.181, 0.185, 0.189, 0.191, 0.195, 0.199, 0.201, 0.205, 0.209, 0.211, 0.215, 0.219, 0.221, 0.225, 0.229, 0.231, 0.235, 0.239, 0.241, 0.245, 0.249, 0.251, 0.255, 0.259, 0.261, 0.265, 0.269, 0.271, 0.275, 0.279, 0.281, 0.285, 0.289, 0.291, 0.295, 0.299, 0.301, 0.305, 0.309, 0.311, 0.315, 0.319, 0.321, 0.325, 0.329, 0.331, 0.335, 0.339, 0.341, 0.345, 0.349, 0.351, 0.355, 0.359, 0.361, 0.365, 0.369, 0.371, 0.375, 0.379, 0.381, 0.385, 0.389, 0.391, 0.395, 0.399, 0.401, 0.405, 0.409, 0.411, 0.415, 0.419, 0.421, 0.425, 0.429, 0.431, 0.435, 0.439, 0.441, 0.445, 0.449, 0.451, 0.455, 0.459, 0.461, 0.465, 0.469, 0.471, 0.475, 0.479, 0.481, 0.485, 0.489, 0.491, 0.495, 0.499, 0.501, 0.505, 0.509, 0.511, 0.515, 0.519, 0.521, 0.525, 0.529, 0.531, 0.535, 0.539, 0.541, 0.545, 0.549, 0.551, 0.555, 0.559, 0.561, 0.565, 0.569, 0.571, 0.575, 0.579, 0.581, 0.585, 0.589, 0.591, 0.595, 0.599, 0.601, 0.605, 0.609, 0.611, 0.615, 0.619, 0.621, 0.625, 0.629, 0.631, 0.635, 0.639, 0.641, 0.645, 0.649, 0.651, 0.655, 0.659, 0.661, 0.665, 0.669, 0.671, 0.675, 0.679, 0.681, 0.685, 0.689, 0.691, 0.695, 0.699, 0.701, 0.705, 0.709, 0.711, 0.715, 0.719, 0.721, 0.725, 0.729, 0.731, 0.735, 0.739, 0.741, 0.745, 0.749, 0.751, 0.755, 0.759, 0.761, 0.765, 0.769, 0.771, 0.775, 0.779, 0.781, 0.785, 0.789, 0.791, 0.795, 0.799, 0.801, 0.805, 0.809, 0.811, 0.815, 0.819, 0.821, 0.825, 0.829, 0.831, 0.835, 0.839, 0.841, 0.845, 0.849, 0.851, 0.855, 0.859, 0.861, 0.865, 0.869, 0.871, 0.875, 0.879, 0.881, 0.885, 0.889, 0.891, 0.895, 0.899, 0.901, 0.905, 0.909, 0.911, 0.915, 0.919, 0.921, 0.925, 0.929, 0.931, 0.935, 0.939, 0.941, 0.945, 0.949, 0.951, 0.955, 0.959, 0.961, 0.965, 0.969, 0.971, 0.975, 0.979, 0.981, 0.985, 0.989, 0.992, 0.995, 0.998, 0.999, 1.0, 1.001, 1.0, 1.0]\n"
     ]
    }
   ],
   "source": [
    "coords = nums\n",
    "\n",
    "X, y = [], []\n",
    "isX = True\n",
    "for coord in coords:\n",
    "    if isX:\n",
    "        # Divide by 100% to make it a percentage of video elapsed\n",
    "        X.append(float(coord)/1000)\n",
    "        isX = False\n",
    "    else:\n",
    "        y.append(float(-coord)) # (100-coord)/coord)\n",
    "        isX = True\n",
    "\n",
    "print(X)"
   ],
   "metadata": {
    "collapsed": false
   }
  },
  {
   "cell_type": "code",
   "execution_count": 13,
   "outputs": [
    {
     "name": "stdout",
     "output_type": "stream",
     "text": [
      "[-100.0, -96.8, -86.1, -84.1, -82.1, -88.8, -90.0, -91.2, -90.0, -90.0, -90.0, -91.3, -90.0, -88.7, -84.0, -83.5, -83.0, -86.0, -87.3, -88.6, -89.5, -90.0, -90.5, -91.5, -90.0, -88.4, -86.2, -82.3, -78.3, -75.6, -70.2, -64.8, -61.8, -55.3, -48.7, -39.3, -37.5, -35.6, -42.2, -46.1, -50.1, -53.2, -57.4, -61.6, -63.0, -67.1, -71.1, -74.5, -77.6, -80.7, -80.9, -82.6, -84.3, -85.1, -86.3, -87.4, -88.0, -88.2, -88.4, -87.8, -87.3, -86.9, -86.2, -85.9, -85.6, -86.3, -86.0, -85.7, -84.9, -84.5, -84.1, -84.0, -84.0, -84.0, -84.6, -84.6, -84.5, -83.8, -83.8, -83.8, -84.4, -84.7, -85.0, -84.9, -85.2, -85.6, -86.0, -86.4, -86.8, -86.9, -87.4, -87.9, -88.4, -88.9, -89.4, -89.8, -90.0, -90.2, -90.0, -90.0, -90.0, -90.0, -90.0, -90.0, -90.0, -90.0, -90.0, -90.0, -90.0, -90.0, -90.0, -90.0, -90.0, -90.0, -90.0, -90.0, -90.0, -90.0, -90.0, -90.0, -90.0, -90.0, -90.0, -90.0, -90.0, -90.0, -90.0, -90.0, -90.0, -90.0, -90.0, -90.0, -90.0, -90.0, -90.0, -90.0, -90.0, -90.0, -90.0, -90.0, -90.0, -90.0, -90.0, -90.0, -90.0, -90.0, -90.0, -90.0, -90.0, -90.0, -90.0, -90.0, -90.0, -90.0, -90.0, -90.3, -90.0, -89.7, -88.7, -88.3, -88.0, -88.4, -88.2, -87.9, -87.4, -87.0, -86.5, -86.3, -85.8, -85.3, -84.8, -84.5, -84.2, -84.5, -84.4, -84.3, -84.1, -84.1, -84.0, -84.5, -84.1, -83.8, -83.1, -82.5, -81.8, -82.8, -81.0, -79.2, -77.7, -73.6, -69.5, -64.8, -60.5, -56.3, -56.4, -52.4, -48.5, -47.8, -41.0, -34.2, -26.4, -18.2, -10.0, 4.3, -0.0, -4.3, -28.3, -39.9, -51.5, -52.8, -58.1, -63.5, -65.3, -66.6, -68.0, -68.4, -64.8, -61.2, -52.8, -48.5, -44.3, -41.3, -43.6, -45.9, -54.1, -60.0, -66.0, -69.6, -73.4, -77.1, -77.4, -79.0, -80.6, -80.6, -81.3, -82.1, -82.2, -82.6, -82.9, -83.7, -83.1, -82.5, -81.0, -79.6, -78.2, -76.5, -76.3, -76.0, -76.4, -78.3, -80.3, -83.9, -86.0, -88.0, -87.9, -88.7, -89.5, -90.0, -90.0, -90.0, -89.2, -88.8, -88.4, -87.8, -88.0, -88.2, -89.6, -90.0, -90.4, -90.0, -90.0, -90.0, -90.0, -90.0, -90.0, -90.6, -90.0, -89.4, -86.9, -86.8, -86.6, -88.4, -89.1, -89.7, -90.5, -90.0, -89.5, -87.0, -86.7, -86.4, -88.0, -88.6, -89.3, -89.7, -90.0, -90.3, -90.5, -90.0, -89.5, -88.0, -87.5, -87.0, -85.0, -87.5, -90.0, -97.5, -100.0]\n"
     ]
    }
   ],
   "source": [
    "print(y)"
   ],
   "metadata": {
    "collapsed": false
   }
  },
  {
   "cell_type": "code",
   "execution_count": 14,
   "outputs": [
    {
     "name": "stdout",
     "output_type": "stream",
     "text": [
      "307\n"
     ]
    },
    {
     "data": {
      "text/plain": "<Figure size 640x480 with 1 Axes>",
      "image/png": "[encoded data removed]"
     },
     "metadata": {},
     "output_type": "display_data"
    }
   ],
   "source": [
    "# Normalize histogram\n",
    "print(len(X))\n",
    "\n",
    "y_arr = np.array(y)\n",
    "normalized_y = y_arr - y_arr.min()\n",
    "plt.plot(X, normalized_y)\n",
    "plt.show()"
   ],
   "metadata": {
    "collapsed": false
   }
  },
  {
   "cell_type": "code",
   "execution_count": 15,
   "outputs": [
    {
     "name": "stdout",
     "output_type": "stream",
     "text": [
      "[(23, 53), (60, 90), (188, 218), (206, 236), (231, 261)]\n",
      "[(23, 53), (60, 90), (188, 218), (206, 236), (231, 261)]\n",
      "[(23, 53), (60, 90), (188, 236), (231, 261)]\n",
      "[(23, 53), (60, 90), (188, 261)]\n"
     ]
    },
    {
     "data": {
      "text/plain": "<Figure size 640x480 with 1 Axes>",
      "image/png": "[encoded data removed]"
     },
     "metadata": {},
     "output_type": "display_data"
    }
   ],
   "source": [
    "norm_density = normalized_y / normalized_y.sum()\n",
    "norm_density_ma = pd.Series(norm_density).rolling(10, center=True).mean().values\n",
    "\n",
    "peaks = find_peaks(norm_density_ma, prominence=0.0005)[0]\n",
    "#minima = argrelextrema(norm_density_ma, np.less)[0]\n",
    "\n",
    "plt.plot(X, norm_density_ma)\n",
    "#plt.plot(X, norm_density)\n",
    "bounds = []\n",
    "bound_magnitude = 15\n",
    "for peak in peaks:\n",
    "    bounds.append((peak - bound_magnitude, peak + bound_magnitude))\n",
    "\n",
    "'''for i in range(len(bounds)):\n",
    "    if bounds[i][0] < 0:\n",
    "        bounds[i] = (0, bounds[i][1])\n",
    "\n",
    "    if bounds[i][1] > len(bounds):\n",
    "        bounds[i] = (bounds[i][0], len(X)-1)'''\n",
    "\n",
    "print(bounds)\n",
    "\n",
    "flag, last = True, bounds.copy()\n",
    "while flag:\n",
    "    print(last)\n",
    "\n",
    "    for i in range(len(last)):\n",
    "        if i != len(last)-1:\n",
    "            curr, next = last[i], last[i+1]\n",
    "\n",
    "            if curr[1] >= next[0]:\n",
    "                new = (curr[0], next[1])\n",
    "                last[i] = new\n",
    "                last.remove(next)\n",
    "                new_loop = True\n",
    "                break\n",
    "\n",
    "    if new_loop is True:\n",
    "        new_loop = False\n",
    "        continue\n",
    "\n",
    "    flag = False\n",
    "\n",
    "if len(last) > 0:\n",
    "    bounds = last\n",
    "\n",
    "for i in range(len(peaks)):\n",
    "    plt.axvline(X[peaks[i]], color='r')\n",
    "\n",
    "for i in range(len(bounds)):\n",
    "    plt.axvspan(X[bounds[i][0]], X[bounds[i][1]], color='y', alpha=0.5, lw=0)\n",
    "plt.show()"
   ],
   "metadata": {
    "collapsed": false
   }
  },
  {
   "cell_type": "code",
   "execution_count": 22,
   "outputs": [
    {
     "name": "stdout",
     "output_type": "stream",
     "text": [
      "1b2XscG9Lfk\n"
     ]
    }
   ],
   "source": [
    "def get_id_from_url(url):\n",
    "  query = parse_qs(urlparse(url).query)\n",
    "  id = query['v']\n",
    "  if not id or not len(id):\n",
    "    return None\n",
    "  return id[0]\n",
    "\n",
    "print(get_id_from_url(url))"
   ],
   "metadata": {
    "collapsed": false
   }
  },
  {
   "cell_type": "code",
   "execution_count": 20,
   "outputs": [
    {
     "name": "stdout",
     "output_type": "stream",
     "text": [
      "Moviepy - Building video output_video1.mp4.\n",
      "MoviePy - Writing audio in temp-audio.m4a\n"
     ]
    },
    {
     "name": "stderr",
     "output_type": "stream",
     "text": [
      "                                                                    \r"
     ]
    },
    {
     "name": "stdout",
     "output_type": "stream",
     "text": [
      "MoviePy - Done.\n",
      "Moviepy - Writing video output_video1.mp4\n",
      "\n"
     ]
    },
    {
     "name": "stderr",
     "output_type": "stream",
     "text": [
      "                                                               \r"
     ]
    },
    {
     "name": "stdout",
     "output_type": "stream",
     "text": [
      "Moviepy - Done !\n",
      "Moviepy - video ready output_video1.mp4\n",
      "Moviepy - Building video output_video2.mp4.\n",
      "MoviePy - Writing audio in temp-audio.m4a\n"
     ]
    },
    {
     "name": "stderr",
     "output_type": "stream",
     "text": [
      "                                                                    \r"
     ]
    },
    {
     "name": "stdout",
     "output_type": "stream",
     "text": [
      "MoviePy - Done.\n",
      "Moviepy - Writing video output_video2.mp4\n",
      "\n"
     ]
    },
    {
     "name": "stderr",
     "output_type": "stream",
     "text": [
      "                                                               \r"
     ]
    },
    {
     "name": "stdout",
     "output_type": "stream",
     "text": [
      "Moviepy - Done !\n",
      "Moviepy - video ready output_video2.mp4\n",
      "Moviepy - Building video output_video3.mp4.\n",
      "MoviePy - Writing audio in temp-audio.m4a\n"
     ]
    },
    {
     "name": "stderr",
     "output_type": "stream",
     "text": [
      "                                                                      \r"
     ]
    },
    {
     "name": "stdout",
     "output_type": "stream",
     "text": [
      "MoviePy - Done.\n",
      "Moviepy - Writing video output_video3.mp4\n",
      "\n"
     ]
    },
    {
     "name": "stderr",
     "output_type": "stream",
     "text": [
      "                                                                 \r"
     ]
    },
    {
     "name": "stdout",
     "output_type": "stream",
     "text": [
      "Moviepy - Done !\n",
      "Moviepy - video ready output_video3.mp4\n"
     ]
    }
   ],
   "source": [
    "video = VideoFileClip(\"00001.mp4\")\n",
    "\n",
    "count = 1\n",
    "for b in bounds:\n",
    "    start = X[b[0]] * video.duration\n",
    "    end = X[b[1]] * video.duration\n",
    "    edited_video = video.subclip(start, end)\n",
    "    file_path = str(start) + \"_\" + str(end) + \".mp4\"\n",
    "    edited_video.write_videofile(file_path, codec='libx264', audio_codec='aac', temp_audiofile='temp-audio.m4a', remove_temp=True)\n",
    "    count += 1"
   ],
   "metadata": {
    "collapsed": false
   }
  },
  {
   "cell_type": "code",
   "execution_count": 16,
   "outputs": [],
   "source": [],
   "metadata": {
    "collapsed": false
   }
  }
 ],
 "metadata": {
  "kernelspec": {
   "display_name": "Python 3",
   "language": "python",
   "name": "python3"
  },
  "language_info": {
   "codemirror_mode": {
    "name": "ipython",
    "version": 2
   },
   "file_extension": ".py",
   "mimetype": "text/x-python",
   "name": "python",
   "nbconvert_exporter": "python",
   "pygments_lexer": "ipython2",
   "version": "2.7.6"
  }
 },
 "nbformat": 4,
 "nbformat_minor": 0
}
